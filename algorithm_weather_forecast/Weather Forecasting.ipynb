{
 "cells": [
  {
   "cell_type": "code",
   "execution_count": 4,
   "id": "aef9aff5",
   "metadata": {},
   "outputs": [
    {
     "name": "stdout",
     "output_type": "stream",
     "text": [
      "Enter a city name: kanpur\n",
      "Weather forecast for kanpur:\n",
      "Timestamp: 2023-06-04 18:00:00\n",
      "Description: few clouds\n",
      "Temperature: 304.18 K\n",
      "Humidity: 42 %\n",
      "Wind Speed: 3.44 m/s\n",
      "Wind Direction: 343 degrees\n",
      "\n",
      "Timestamp: 2023-06-04 21:00:00\n",
      "Description: scattered clouds\n",
      "Temperature: 304.04 K\n",
      "Humidity: 43 %\n",
      "Wind Speed: 2.12 m/s\n",
      "Wind Direction: 266 degrees\n",
      "\n",
      "Timestamp: 2023-06-05 00:00:00\n",
      "Description: broken clouds\n",
      "Temperature: 304.24 K\n",
      "Humidity: 41 %\n",
      "Wind Speed: 3.01 m/s\n",
      "Wind Direction: 302 degrees\n",
      "\n",
      "Timestamp: 2023-06-05 03:00:00\n",
      "Description: overcast clouds\n",
      "Temperature: 305.79 K\n",
      "Humidity: 35 %\n",
      "Wind Speed: 2.74 m/s\n",
      "Wind Direction: 292 degrees\n",
      "\n",
      "Timestamp: 2023-06-05 06:00:00\n",
      "Description: scattered clouds\n",
      "Temperature: 311.75 K\n",
      "Humidity: 22 %\n",
      "Wind Speed: 3.97 m/s\n",
      "Wind Direction: 238 degrees\n",
      "\n"
     ]
    }
   ],
   "source": [
    "import requests\n",
    "\n",
    "def get_weather_forecast(api_key, city):\n",
    "    url = f\"http://api.openweathermap.org/data/2.5/forecast?q={city}&appid={api_key}\"\n",
    "    \n",
    "    try:\n",
    "        response = requests.get(url)\n",
    "        response.raise_for_status()\n",
    "        data = response.json()\n",
    "\n",
    "        print(f\"Weather forecast for {city}:\")\n",
    "\n",
    "        forecasts = data[\"list\"][:5]  # Get the first 5 forecasts (3-hour intervals for 5 days)\n",
    "        for forecast in forecasts:\n",
    "            timestamp = forecast[\"dt_txt\"]\n",
    "            weather_description = forecast[\"weather\"][0][\"description\"]\n",
    "            temperature = forecast[\"main\"][\"temp\"]\n",
    "            humidity = forecast[\"main\"][\"humidity\"]\n",
    "            wind = forecast[\"wind\"]\n",
    "            wind_speed = wind[\"speed\"]\n",
    "            wind_direction = wind[\"deg\"]\n",
    "\n",
    "            print(\"Timestamp:\", timestamp)\n",
    "            print(\"Description:\", weather_description)\n",
    "            print(\"Temperature:\", temperature, \"K\")\n",
    "            print(\"Humidity:\", humidity, \"%\")\n",
    "            print(\"Wind Speed:\", wind_speed, \"m/s\")\n",
    "            print(\"Wind Direction:\", wind_direction, \"degrees\")\n",
    "            print(\"\")\n",
    "\n",
    "    except requests.exceptions.RequestException as e:\n",
    "        print(\"Error occurred while fetching weather data:\", e)\n",
    "\n",
    "if __name__ == \"__main__\":\n",
    "    api_key = \"\"\n",
    "    city = input(\"Enter a city name: \")\n",
    "    get_weather_forecast(api_key, city)\n"
   ]
  },
  {
   "cell_type": "code",
   "execution_count": null,
   "id": "564e719e",
   "metadata": {},
   "outputs": [],
   "source": []
  }
 ],
 "metadata": {
  "kernelspec": {
   "display_name": "Python 3 (ipykernel)",
   "language": "python",
   "name": "python3"
  },
  "language_info": {
   "codemirror_mode": {
    "name": "ipython",
    "version": 3
   },
   "file_extension": ".py",
   "mimetype": "text/x-python",
   "name": "python",
   "nbconvert_exporter": "python",
   "pygments_lexer": "ipython3",
   "version": "3.10.9"
  }
 },
 "nbformat": 4,
 "nbformat_minor": 5
}
